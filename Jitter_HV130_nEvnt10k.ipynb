{
 "cells": [
  {
   "cell_type": "code",
   "execution_count": 1,
   "metadata": {},
   "outputs": [],
   "source": [
    "from mtdScope import scopeEmulator\n",
    "import matplotlib.pyplot as plt\n",
    "import numpy as np\n",
    "import time\n",
    "        \n",
    "#load the sample data to test\n",
    "se = scopeEmulator()\n",
    "se.loadData('../data/HV130_high_300mV_def.hd5')"
   ]
  },
  {
   "cell_type": "code",
   "execution_count": 2,
   "metadata": {
    "scrolled": false
   },
   "outputs": [
    {
     "name": "stdout",
     "output_type": "stream",
     "text": [
      "processing the 1000th events...\n",
      "processing the 1050th events...\n",
      "processing the 1100th events...\n",
      "processing the 1150th events...\n",
      "processing the 1200th events...\n",
      "processing the 1250th events...\n",
      "processing the 1300th events...\n",
      "processing the 1350th events...\n",
      "time consumed: 495.6285421848297\n",
      "trigger time jitter = 5586.7144\n",
      "preAmp time jitter = 485.15704\n",
      "Walk corrected time jitter = 485.15704\n"
     ]
    },
    {
     "data": {
      "text/plain": [
       "(array([  2.,   0.,   0.,   0.,   0.,   0.,   0.,   0.,   0.,   0.,   0.,\n",
       "          0.,   0.,   0.,   0.,   0.,   0., 397.,   0.,   1.]),\n",
       " array([-37064.906 , -32616.582 , -28168.26  , -23719.936 , -19271.611 ,\n",
       "        -14823.288 , -10374.965 ,  -5926.6406,  -1478.3171,   2970.0063,\n",
       "          7418.33  ,  11866.653 ,  16314.978 ,  20763.3   ,  25211.625 ,\n",
       "         29659.95  ,  34108.273 ,  38556.594 ,  43004.918 ,  47453.242 ,\n",
       "         51901.566 ], dtype=float32),\n",
       " <a list of 20 Patch objects>)"
      ]
     },
     "execution_count": 2,
     "metadata": {},
     "output_type": "execute_result"
    },
    {
     "data": {
      "image/png": "[encoded data removed]",
      "text/plain": [
       "<Figure size 432x288 with 1 Axes>"
      ]
     },
     "metadata": {
      "needs_background": "light"
     },
     "output_type": "display_data"
    }
   ],
   "source": [
    "ts = se.runTimeWalk(r0=1000, r1= 1400, nstep = 50, method = 'linear')\n",
    "dts = np.subtract(ts[1], ts[0])\n",
    "print('trigger time jitter = '+str(ts[0].std()))\n",
    "print('preAmp time jitter = '+str(ts[1].std()))\n",
    "print('Walk corrected time jitter = '+str(ts[1].std()))\n",
    "plt.hist(dts, 20)"
   ]
  },
  {
   "cell_type": "code",
   "execution_count": 16,
   "metadata": {},
   "outputs": [
    {
     "name": "stdout",
     "output_type": "stream",
     "text": [
      "1100\n",
      "[9999, -1]\n"
     ]
    },
    {
     "data": {
      "image/png": "[encoded data removed]",
      "text/plain": [
       "<Figure size 432x288 with 1 Axes>"
      ]
     },
     "metadata": {
      "needs_background": "light"
     },
     "output_type": "display_data"
    },
    {
     "name": "stdout",
     "output_type": "stream",
     "text": [
      "87352.96646686227\n",
      "time consumed: 4.433508634567261\n"
     ]
    }
   ],
   "source": [
    "timing_start = time.time()\n",
    "ievt = ts[0].argmax()+1000\n",
    "#ievt = ts[0].argmin()+1000\n",
    "#ievt= 1252\n",
    "print(ievt)\n",
    "nch = 1\n",
    "evt1 = se.getEventAdjusted(ievt)\n",
    "points = se._loadedData_\n",
    "n0 = se.leftJumpScan(points[0], points[nch])\n",
    "fcft = se.simulateCFT(points[0], points[nch])\n",
    "inte = se.crossRegion(fcft,n0)\n",
    "#plt.plot(evt1[0], evt1[2])\n",
    "print(inte)\n",
    "plt.plot(evt1[0][500:-500], fcft(evt1[0][500:-500]))\n",
    "plt.plot(evt1[0][inte[0]-10:inte[1]+10], evt1[2][inte[0]-10:inte[1]+10])\n",
    "plt.plot(evt1[0][inte[0]-10:inte[1]+10], fcft(evt1[0][inte[0]-10:inte[1]+10]), color='red')\n",
    "\n",
    "ndens = 100\n",
    "densdt = (evt1[0][inte[1]+10]-evt1[0][inte[0]-10])/ndens\n",
    "densx = np.zeros(ndens)\n",
    "\n",
    "for i in range(ndens):\n",
    "    densx[i] = evt1[0][inte[0]-10]+i*densdt\n",
    "\n",
    "#plt.plot(densx, fcft(densx))\n",
    "res = se.getCFTiming(ievt,method = 'linear')\n",
    "res2 = se.getCFTiming(ievt,method = 'newton')\n",
    "#print(res)\n",
    "plt.axvline((inte[1]+inte[0])/2*se.dt,color='Green')\n",
    "\n",
    "#plt.axvline(res[nch-1],color='Red')\n",
    "plt.show()\n",
    "print(res[nch-1]-res2[nch-1])\n",
    "\n",
    "timing_stop = time.time()\n",
    "print('time consumed: '+str(timing_stop-timing_start))"
   ]
  },
  {
   "cell_type": "code",
   "execution_count": null,
   "metadata": {},
   "outputs": [],
   "source": []
  },
  {
   "cell_type": "code",
   "execution_count": null,
   "metadata": {},
   "outputs": [],
   "source": []
  }
 ],
 "metadata": {
  "kernelspec": {
   "display_name": "Python 3",
   "language": "python",
   "name": "python3"
  },
  "language_info": {
   "codemirror_mode": {
    "name": "ipython",
    "version": 3
   },
   "file_extension": ".py",
   "mimetype": "text/x-python",
   "name": "python",
   "nbconvert_exporter": "python",
   "pygments_lexer": "ipython3",
   "version": "3.7.3"
  }
 },
 "nbformat": 4,
 "nbformat_minor": 2
}
